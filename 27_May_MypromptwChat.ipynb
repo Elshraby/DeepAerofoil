{
  "nbformat": 4,
  "nbformat_minor": 0,
  "metadata": {
    "colab": {
      "provenance": [],
      "authorship_tag": "ABX9TyO38gvDJ7yTs9+QKrkiEJJT",
      "include_colab_link": true
    },
    "kernelspec": {
      "name": "python3",
      "display_name": "Python 3"
    },
    "language_info": {
      "name": "python"
    }
  },
  "cells": [
    {
      "cell_type": "markdown",
      "metadata": {
        "id": "view-in-github",
        "colab_type": "text"
      },
      "source": [
        "<a href=\"https://colab.research.google.com/github/Elshraby/DeepAerofoil/blob/main/27_May_MypromptwChat.ipynb\" target=\"_parent\"><img src=\"https://colab.research.google.com/assets/colab-badge.svg\" alt=\"Open In Colab\"/></a>"
      ]
    },
    {
      "cell_type": "code",
      "execution_count": null,
      "metadata": {
        "id": "ePp-7OjROETk"
      },
      "outputs": [],
      "source": [
        "import torch\n",
        "import torch.nn as nn\n",
        "import torch.optim as optim\n",
        "import pandas as pd\n",
        "import numpy as np\n",
        "import matplotlib.pyplot as plt\n",
        "from sklearn.model_selection import train_test_split\n",
        "from sklearn.preprocessing import StandardScaler"
      ]
    },
    {
      "cell_type": "code",
      "source": [
        "from google.colab import files\n",
        "\n",
        "# Upload airfoil and turbine design data\n",
        "uploaded = files.upload()\n",
        "\n",
        "# Load files\n",
        "airfoil_df = pd.read_csv(\"airfoil_data.csv\")  # Angle of attack (deg), Cl, Cd\n",
        "turbine_df = pd.read_csv(\"turbine_data.csv\")  # All turbine parameters including Cp"
      ],
      "metadata": {
        "id": "xcalkiUKPdwQ"
      },
      "execution_count": null,
      "outputs": []
    },
    {
      "cell_type": "code",
      "source": [
        "def bem_power_coefficient(row, cl_interp, cd_interp):\n",
        "    B = row['Number_of_Blades']\n",
        "    R = row['Diameter'] / 2\n",
        "    H = row['Height']\n",
        "    c = row['Chord_Length']\n",
        "    U_inf = row['Freestream_Velocity']\n",
        "    TSR = row['Tip_Speed_Ratio']\n",
        "\n",
        "    rho = 1.225  # kg/m^3\n",
        "    n_segments = 20\n",
        "    dtheta = 2 * np.pi / n_segments\n",
        "    power = 0.0\n",
        "\n",
        "    for i in range(n_segments):\n",
        "        theta = i * dtheta\n",
        "        omega = TSR * U_inf / R\n",
        "        V_rel_x = U_inf * np.cos(theta)\n",
        "        V_rel_y = omega * R + U_inf * np.sin(theta)\n",
        "        V_rel = np.sqrt(V_rel_x**2 + V_rel_y**2)\n",
        "        alpha = np.arctan2(V_rel_y, V_rel_x) * 180 / np.pi  # in degrees\n",
        "\n",
        "        Cl = cl_interp(alpha)\n",
        "        Cd = cd_interp(alpha)\n",
        "        dL = 0.5 * rho * V_rel**2 * c * Cl\n",
        "        dD = 0.5 * rho * V_rel**2 * c * Cd\n",
        "\n",
        "        dT = dL * np.cos(np.radians(alpha)) - dD * np.sin(np.radians(alpha))\n",
        "        dP = dT * omega * R\n",
        "        power += dP * dtheta\n",
        "\n",
        "    P_available = 0.5 * rho * U_inf**3 * (np.pi * R**2)\n",
        "    Cp = power / P_available\n",
        "    return Cp"
      ],
      "metadata": {
        "id": "qkWtjvB7Pe_H"
      },
      "execution_count": null,
      "outputs": []
    },
    {
      "cell_type": "code",
      "source": [
        "from scipy.interpolate import interp1d\n",
        "\n",
        "cl_interp = interp1d(airfoil_df['Angle'], airfoil_df['Cl'], fill_value='extrapolate')\n",
        "cd_interp = interp1d(airfoil_df['Angle'], airfoil_df['Cd'], fill_value='extrapolate')"
      ],
      "metadata": {
        "id": "WjQ_ivjjPhgH"
      },
      "execution_count": null,
      "outputs": []
    },
    {
      "cell_type": "code",
      "source": [
        "turbine_df['Cp_BEM'] = turbine_df.apply(lambda row: bem_power_coefficient(row, cl_interp, cd_interp), axis=1)"
      ],
      "metadata": {
        "id": "cI5X0a4rPjGv"
      },
      "execution_count": null,
      "outputs": []
    },
    {
      "cell_type": "code",
      "source": [
        "# Select inputs and output\n",
        "features = ['Number_of_Blades', 'Chord_Length', 'Height', 'Diameter', 'Freestream_Velocity', 'Tip_Speed_Ratio', 'Cp_BEM']\n",
        "target = 'Power_Coefficient'\n",
        "\n",
        "X = turbine_df[features].values\n",
        "y = turbine_df[target].values.reshape(-1, 1)\n",
        "\n",
        "# Scale data\n",
        "scaler_X = StandardScaler()\n",
        "scaler_y = StandardScaler()\n",
        "X = scaler_X.fit_transform(X)\n",
        "y = scaler_y.fit_transform(y)\n",
        "\n",
        "# Split\n",
        "X_train, X_test, y_train, y_test = train_test_split(X, y, test_size=0.2, random_state=42)\n",
        "\n",
        "# Convert to tensors\n",
        "X_train = torch.tensor(X_train, dtype=torch.float32)\n",
        "y_train = torch.tensor(y_train, dtype=torch.float32)\n",
        "X_test = torch.tensor(X_test, dtype=torch.float32)\n",
        "y_test = torch.tensor(y_test, dtype=torch.float32)"
      ],
      "metadata": {
        "id": "JimSj79wPkRX"
      },
      "execution_count": null,
      "outputs": []
    },
    {
      "cell_type": "code",
      "source": [
        "class CpPredictor(nn.Module):\n",
        "    def __init__(self):\n",
        "        super(CpPredictor, self).__init__()\n",
        "        self.model = nn.Sequential(\n",
        "            nn.Linear(7, 64),\n",
        "            nn.ReLU(),\n",
        "            nn.Linear(64, 32),\n",
        "            nn.ReLU(),\n",
        "            nn.Linear(32, 1)\n",
        "        )\n",
        "\n",
        "    def forward(self, x):\n",
        "        return self.model(x)"
      ],
      "metadata": {
        "id": "S69MpNR5Plp3"
      },
      "execution_count": null,
      "outputs": []
    },
    {
      "cell_type": "code",
      "source": [
        "model = CpPredictor()\n",
        "criterion = nn.MSELoss()\n",
        "optimizer = optim.Adam(model.parameters(), lr=0.001)\n",
        "\n",
        "epochs = 500\n",
        "losses = []\n",
        "\n",
        "for epoch in range(epochs):\n",
        "    model.train()\n",
        "    optimizer.zero_grad()\n",
        "    outputs = model(X_train)\n",
        "    loss = criterion(outputs, y_train)\n",
        "    loss.backward()\n",
        "    optimizer.step()\n",
        "    losses.append(loss.item())\n",
        "\n",
        "    if epoch % 50 == 0:\n",
        "        print(f\"Epoch {epoch}, Loss: {loss.item():.6f}\")"
      ],
      "metadata": {
        "id": "Ch-wqJqbPnGO"
      },
      "execution_count": null,
      "outputs": []
    },
    {
      "cell_type": "code",
      "source": [
        "plt.figure(figsize=(10,5))\n",
        "plt.plot(losses)\n",
        "plt.xlabel(\"Epochs\")\n",
        "plt.ylabel(\"Loss\")\n",
        "plt.title(\"Training Loss Curve\")\n",
        "plt.grid(True)\n",
        "plt.show()"
      ],
      "metadata": {
        "id": "C4GXipM-Poe-"
      },
      "execution_count": null,
      "outputs": []
    },
    {
      "cell_type": "code",
      "source": [
        "model.eval()\n",
        "with torch.no_grad():\n",
        "    predictions = model(X_test)\n",
        "    predictions = scaler_y.inverse_transform(predictions.numpy())\n",
        "    y_true = scaler_y.inverse_transform(y_test.numpy())\n",
        "\n",
        "mse = np.mean((predictions - y_true)**2)\n",
        "print(f\"Test MSE: {mse:.6f}\")"
      ],
      "metadata": {
        "id": "LHJCRVuHPrw2"
      },
      "execution_count": null,
      "outputs": []
    },
    {
      "cell_type": "code",
      "source": [
        "plt.figure(figsize=(6,6))\n",
        "plt.scatter(y_true, predictions, alpha=0.7)\n",
        "plt.plot([min(y_true), max(y_true)], [min(y_true), max(y_true)], 'r--')\n",
        "plt.xlabel(\"True Cp\")\n",
        "plt.ylabel(\"Predicted Cp\")\n",
        "plt.title(\"Prediction vs Actual\")\n",
        "plt.grid(True)\n",
        "plt.axis('equal')\n",
        "plt.show()"
      ],
      "metadata": {
        "id": "Ut-aIkcjPsRO"
      },
      "execution_count": null,
      "outputs": []
    }
  ]
}