{
  "nbformat": 4,
  "nbformat_minor": 0,
  "metadata": {
    "colab": {
      "provenance": [],
      "authorship_tag": "ABX9TyO5h1MVjWkNuqqaBmlZbY8w",
      "include_colab_link": true
    },
    "kernelspec": {
      "name": "python3",
      "display_name": "Python 3"
    },
    "language_info": {
      "name": "python"
    }
  },
  "cells": [
    {
      "cell_type": "markdown",
      "metadata": {
        "id": "view-in-github",
        "colab_type": "text"
      },
      "source": [
        "<a href=\"https://colab.research.google.com/github/Elshraby/DeepAerofoil/blob/main/Results_26_Apr_BasicModel.ipynb\" target=\"_parent\"><img src=\"https://colab.research.google.com/assets/colab-badge.svg\" alt=\"Open In Colab\"/></a>"
      ]
    },
    {
      "cell_type": "code",
      "source": [
        "!pip install deap pysr"
      ],
      "metadata": {
        "colab": {
          "base_uri": "https://localhost:8080/"
        },
        "id": "ouDOsSFczmq4",
        "outputId": "b6b5724b-1c26-4827-dbbe-77079a04345f"
      },
      "execution_count": 6,
      "outputs": [
        {
          "output_type": "stream",
          "name": "stdout",
          "text": [
            "Collecting deap\n",
            "  Downloading deap-1.4.2-cp311-cp311-manylinux_2_5_x86_64.manylinux1_x86_64.manylinux_2_17_x86_64.manylinux2014_x86_64.whl.metadata (13 kB)\n",
            "Collecting pysr\n",
            "  Downloading pysr-1.5.5-py3-none-any.whl.metadata (54 kB)\n",
            "\u001b[2K     \u001b[90m━━━━━━━━━━━━━━━━━━━━━━━━━━━━━━━━━━━━━━━━\u001b[0m \u001b[32m54.7/54.7 kB\u001b[0m \u001b[31m1.8 MB/s\u001b[0m eta \u001b[36m0:00:00\u001b[0m\n",
            "\u001b[?25hRequirement already satisfied: numpy in /usr/local/lib/python3.11/dist-packages (from deap) (2.0.2)\n",
            "Requirement already satisfied: sympy<2.0.0,>=1.0.0 in /usr/local/lib/python3.11/dist-packages (from pysr) (1.13.1)\n",
            "Requirement already satisfied: pandas<3.0.0,>=0.21.0 in /usr/local/lib/python3.11/dist-packages (from pysr) (2.2.2)\n",
            "Requirement already satisfied: scikit_learn<2.0.0,>=1.0.0 in /usr/local/lib/python3.11/dist-packages (from pysr) (1.6.1)\n",
            "Collecting juliacall==0.9.24 (from pysr)\n",
            "  Downloading juliacall-0.9.24-py3-none-any.whl.metadata (4.5 kB)\n",
            "Requirement already satisfied: click<9.0.0,>=7.0.0 in /usr/local/lib/python3.11/dist-packages (from pysr) (8.1.8)\n",
            "Requirement already satisfied: setuptools>=50.0.0 in /usr/local/lib/python3.11/dist-packages (from pysr) (75.2.0)\n",
            "Requirement already satisfied: typing-extensions<5.0.0,>=4.0.0 in /usr/local/lib/python3.11/dist-packages (from pysr) (4.13.2)\n",
            "Collecting juliapkg~=0.1.8 (from juliacall==0.9.24->pysr)\n",
            "  Downloading juliapkg-0.1.16-py3-none-any.whl.metadata (6.2 kB)\n",
            "Requirement already satisfied: python-dateutil>=2.8.2 in /usr/local/lib/python3.11/dist-packages (from pandas<3.0.0,>=0.21.0->pysr) (2.8.2)\n",
            "Requirement already satisfied: pytz>=2020.1 in /usr/local/lib/python3.11/dist-packages (from pandas<3.0.0,>=0.21.0->pysr) (2025.2)\n",
            "Requirement already satisfied: tzdata>=2022.7 in /usr/local/lib/python3.11/dist-packages (from pandas<3.0.0,>=0.21.0->pysr) (2025.2)\n",
            "Requirement already satisfied: scipy>=1.6.0 in /usr/local/lib/python3.11/dist-packages (from scikit_learn<2.0.0,>=1.0.0->pysr) (1.14.1)\n",
            "Requirement already satisfied: joblib>=1.2.0 in /usr/local/lib/python3.11/dist-packages (from scikit_learn<2.0.0,>=1.0.0->pysr) (1.4.2)\n",
            "Requirement already satisfied: threadpoolctl>=3.1.0 in /usr/local/lib/python3.11/dist-packages (from scikit_learn<2.0.0,>=1.0.0->pysr) (3.6.0)\n",
            "Requirement already satisfied: mpmath<1.4,>=1.1.0 in /usr/local/lib/python3.11/dist-packages (from sympy<2.0.0,>=1.0.0->pysr) (1.3.0)\n",
            "Requirement already satisfied: filelock<4.0,>=3.16 in /usr/local/lib/python3.11/dist-packages (from juliapkg~=0.1.8->juliacall==0.9.24->pysr) (3.18.0)\n",
            "Collecting semver<4.0,>=3.0 (from juliapkg~=0.1.8->juliacall==0.9.24->pysr)\n",
            "  Downloading semver-3.0.4-py3-none-any.whl.metadata (6.8 kB)\n",
            "Requirement already satisfied: six>=1.5 in /usr/local/lib/python3.11/dist-packages (from python-dateutil>=2.8.2->pandas<3.0.0,>=0.21.0->pysr) (1.17.0)\n",
            "Downloading deap-1.4.2-cp311-cp311-manylinux_2_5_x86_64.manylinux1_x86_64.manylinux_2_17_x86_64.manylinux2014_x86_64.whl (135 kB)\n",
            "\u001b[2K   \u001b[90m━━━━━━━━━━━━━━━━━━━━━━━━━━━━━━━━━━━━━━━━\u001b[0m \u001b[32m135.4/135.4 kB\u001b[0m \u001b[31m4.6 MB/s\u001b[0m eta \u001b[36m0:00:00\u001b[0m\n",
            "\u001b[?25hDownloading pysr-1.5.5-py3-none-any.whl (94 kB)\n",
            "\u001b[2K   \u001b[90m━━━━━━━━━━━━━━━━━━━━━━━━━━━━━━━━━━━━━━━━\u001b[0m \u001b[32m94.2/94.2 kB\u001b[0m \u001b[31m6.5 MB/s\u001b[0m eta \u001b[36m0:00:00\u001b[0m\n",
            "\u001b[?25hDownloading juliacall-0.9.24-py3-none-any.whl (11 kB)\n",
            "Downloading juliapkg-0.1.16-py3-none-any.whl (16 kB)\n",
            "Downloading semver-3.0.4-py3-none-any.whl (17 kB)\n",
            "Installing collected packages: semver, deap, juliapkg, juliacall, pysr\n",
            "Successfully installed deap-1.4.2 juliacall-0.9.24 juliapkg-0.1.16 pysr-1.5.5 semver-3.0.4\n"
          ]
        }
      ]
    },
    {
      "cell_type": "code",
      "source": [
        "import random\n",
        "import numpy as np\n",
        "import torch\n",
        "\n",
        "RANDOM_SEED = 42\n",
        "random.seed(RANDOM_SEED)\n",
        "np.random.seed(RANDOM_SEED)\n",
        "torch.manual_seed(RANDOM_SEED)"
      ],
      "metadata": {
        "colab": {
          "base_uri": "https://localhost:8080/"
        },
        "id": "29JKHCx9zpYd",
        "outputId": "d528f3e2-7daf-40a5-d034-8f2a1260134c"
      },
      "execution_count": 7,
      "outputs": [
        {
          "output_type": "execute_result",
          "data": {
            "text/plain": [
              "<torch._C.Generator at 0x79c4a839e810>"
            ]
          },
          "metadata": {},
          "execution_count": 7
        }
      ]
    },
    {
      "cell_type": "code",
      "source": [
        "# --- Dataset and Model for VAWT ---\n",
        "\n",
        "import pandas as pd\n",
        "import numpy as np\n",
        "import torch\n",
        "import torch.nn as nn\n",
        "from torch.utils.data import Dataset, DataLoader\n",
        "\n",
        "# Dataset\n",
        "class VAWTDataset(Dataset):\n",
        "    \"\"\" Custom dataset for vertical-axis wind turbine design data. \"\"\"\n",
        "    def __init__(self, csv_file):\n",
        "        self.data = pd.read_csv(csv_file)\n",
        "        self.data.dropna(inplace=True)\n",
        "\n",
        "        self.num_feature_columns = [\n",
        "            'Number of Blades', 'Cord Length', 'Height',\n",
        "            'Diameter', 'Pitch Angle', 'Freestream Velocity', 'Tip Speed Ratio'\n",
        "        ]\n",
        "        self.airfoil_column = 'Airfoil'\n",
        "        self.target_column = 'Power Coefficient'\n",
        "\n",
        "        self.num_features = self.data[self.num_feature_columns].values.astype(np.float32)\n",
        "\n",
        "        airfoil_cat = self.data[self.airfoil_column].astype('category')\n",
        "        self.airfoil_type = airfoil_cat.cat.codes.values.astype(np.int64)\n",
        "\n",
        "        # Save mapping for airfoil name ↔ code\n",
        "        self.airfoil_mapping = dict(enumerate(airfoil_cat.cat.categories))\n",
        "\n",
        "        self.targets = self.data[self.target_column].values.astype(np.float32).reshape(-1, 1)\n",
        "\n",
        "    def __len__(self):\n",
        "        return len(self.data)\n",
        "\n",
        "    def __getitem__(self, idx):\n",
        "        return {\n",
        "            'num_features': torch.tensor(self.num_features[idx]),\n",
        "            'airfoil_type': torch.tensor(self.airfoil_type[idx]),\n",
        "            'target': torch.tensor(self.targets[idx])\n",
        "        }\n",
        "\n",
        "# Neural Network\n",
        "class StandardVAWTNet(nn.Module):\n",
        "    \"\"\" Standard MLP model for predicting turbine Cp. \"\"\"\n",
        "    def __init__(self, num_feature_size, airfoil_vocab_size, emb_size=4, hidden_size=128):\n",
        "        super(StandardVAWTNet, self).__init__()\n",
        "        self.airfoil_embedding = nn.Embedding(airfoil_vocab_size, emb_size)\n",
        "\n",
        "        input_size = num_feature_size + emb_size\n",
        "\n",
        "        self.model = nn.Sequential(\n",
        "            nn.Linear(input_size, hidden_size),\n",
        "            nn.ReLU(),\n",
        "            nn.Linear(hidden_size, hidden_size // 2),\n",
        "            nn.ReLU(),\n",
        "            nn.Linear(hidden_size // 2, 1)\n",
        "        )\n",
        "\n",
        "    def forward(self, num_features, airfoil_type):\n",
        "        emb = self.airfoil_embedding(airfoil_type)\n",
        "        combined = torch.cat([num_features, emb], dim=1)\n",
        "        return self.model(combined)"
      ],
      "metadata": {
        "id": "jK1zFS0Szrd1"
      },
      "execution_count": 8,
      "outputs": []
    },
    {
      "cell_type": "code",
      "source": [
        "import torch.optim as optim\n",
        "import json\n",
        "\n",
        "# Training\n",
        "def train_model(model, dataloader, num_epochs=500, learning_rate=1e-3):\n",
        "    criterion = nn.MSELoss()\n",
        "    optimizer = optim.Adam(model.parameters(), lr=learning_rate)\n",
        "\n",
        "    for epoch in range(num_epochs):\n",
        "        model.train()\n",
        "        running_loss = 0.0\n",
        "        for batch in dataloader:\n",
        "            inputs = batch['num_features']\n",
        "            airfoil_types = batch['airfoil_type']\n",
        "            targets = batch['target']\n",
        "\n",
        "            optimizer.zero_grad()\n",
        "            outputs = model(inputs, airfoil_types)\n",
        "            loss = criterion(outputs, targets)\n",
        "            loss.backward()\n",
        "            optimizer.step()\n",
        "\n",
        "            running_loss += loss.item()\n",
        "\n",
        "        if (epoch+1) % 50 == 0:\n",
        "            print(f\"Epoch [{epoch+1}/{num_epochs}], Loss: {running_loss/len(dataloader):.6f}\")\n",
        "\n",
        "    print(\"Training complete.\")\n",
        "\n",
        "# Saving\n",
        "def save_model(model, filepath='vawt_model.pth', metadata_file='model_metadata.json', **hyperparams):\n",
        "    # Force pure Python types for JSON\n",
        "    clean_hyperparams = {k: int(v) if isinstance(v, (np.integer, np.int64)) else v for k, v in hyperparams.items()}\n",
        "    torch.save(model.state_dict(), filepath)\n",
        "    with open(metadata_file, 'w') as f:\n",
        "        json.dump(clean_hyperparams, f, indent=4)\n",
        "    print(f\"Model and metadata saved successfully.\")\n",
        "\n",
        "# Loading\n",
        "def load_model(model_class, model_filepath='vawt_model.pth', metadata_filepath='model_metadata.json'):\n",
        "    with open(metadata_filepath, 'r') as f:\n",
        "        hyperparams = json.load(f)\n",
        "\n",
        "    model = model_class(\n",
        "        num_feature_size=hyperparams[\"num_feature_size\"],\n",
        "        airfoil_vocab_size=hyperparams[\"airfoil_vocab_size\"],\n",
        "        emb_size=hyperparams[\"emb_size\"],\n",
        "        hidden_size=hyperparams[\"hidden_size\"]\n",
        "    )\n",
        "    model.load_state_dict(torch.load(model_filepath))\n",
        "    model.eval()\n",
        "    print(\"Model loaded successfully.\")\n",
        "    return model\n",
        "\n",
        "# Prediction (now using airfoil name, not code)\n",
        "def predict(model, sample_num_features, sample_airfoil_name, airfoil_mapping):\n",
        "    code_lookup = {v: k for k, v in airfoil_mapping.items()}\n",
        "\n",
        "    if sample_airfoil_name not in code_lookup:\n",
        "        raise ValueError(f\"Airfoil '{sample_airfoil_name}' not recognized. Available: {list(code_lookup.keys())}\")\n",
        "\n",
        "    airfoil_code = code_lookup[sample_airfoil_name]\n",
        "\n",
        "    model.eval()\n",
        "    with torch.no_grad():\n",
        "        num_features_tensor = torch.tensor([sample_num_features], dtype=torch.float32)\n",
        "        airfoil_tensor = torch.tensor([airfoil_code], dtype=torch.int64)\n",
        "        prediction = model(num_features_tensor, airfoil_tensor)\n",
        "    return prediction.item()"
      ],
      "metadata": {
        "id": "NbOWRFeszv5d"
      },
      "execution_count": 9,
      "outputs": []
    },
    {
      "cell_type": "code",
      "source": [
        "# Load dataset\n",
        "dataset = VAWTDataset('Data.csv')\n",
        "dataloader = DataLoader(dataset, batch_size=32, shuffle=True)\n",
        "\n",
        "# Initialize model\n",
        "input_dim = len(dataset.num_feature_columns)\n",
        "airfoil_vocab_size = int(dataset.airfoil_type.max()) + 1\n",
        "\n",
        "model = StandardVAWTNet(input_dim, airfoil_vocab_size)\n",
        "\n",
        "# Train\n",
        "train_model(model, dataloader, num_epochs=500, learning_rate=1e-3)\n",
        "\n",
        "# Save\n",
        "hyperparams = {\n",
        "    \"num_feature_size\": int(input_dim),\n",
        "    \"airfoil_vocab_size\": int(airfoil_vocab_size),\n",
        "    \"emb_size\": 4,\n",
        "    \"hidden_size\": 128,\n",
        "}\n",
        "save_model(model, **hyperparams)"
      ],
      "metadata": {
        "colab": {
          "base_uri": "https://localhost:8080/"
        },
        "id": "geEMCLXXzzGN",
        "outputId": "09314b1c-148b-481e-f833-388747d88e29"
      },
      "execution_count": 10,
      "outputs": [
        {
          "output_type": "stream",
          "name": "stdout",
          "text": [
            "Epoch [50/500], Loss: 0.003772\n",
            "Epoch [100/500], Loss: 0.001869\n",
            "Epoch [150/500], Loss: 0.001213\n",
            "Epoch [200/500], Loss: 0.000952\n",
            "Epoch [250/500], Loss: 0.000936\n",
            "Epoch [300/500], Loss: 0.000742\n",
            "Epoch [350/500], Loss: 0.000665\n",
            "Epoch [400/500], Loss: 0.000575\n",
            "Epoch [450/500], Loss: 0.000611\n",
            "Epoch [500/500], Loss: 0.000530\n",
            "Training complete.\n",
            "Model and metadata saved successfully.\n"
          ]
        }
      ]
    },
    {
      "cell_type": "code",
      "source": [
        "# Load dataset (again to get airfoil mappings)\n",
        "dataset = VAWTDataset('Data.csv')\n",
        "\n",
        "# Load trained model\n",
        "model = load_model(StandardVAWTNet)\n",
        "\n",
        "# Predict\n",
        "sample_num_features = [3, 0.18, 0.4, 0.42, 0, 7.0, 0.80356]  # Example input\n",
        "sample_airfoil_name = \"EN0005\"  # Enter airfoil name directly\n",
        "\n",
        "predicted_Cp = predict(model, sample_num_features, sample_airfoil_name, dataset.airfoil_mapping)\n",
        "print(f\"Predicted Power Coefficient (Cp): {predicted_Cp:.4f}\")"
      ],
      "metadata": {
        "colab": {
          "base_uri": "https://localhost:8080/"
        },
        "id": "PnwODPuR0xf0",
        "outputId": "bb8b2764-6ac1-4244-967c-961a9d20abd7"
      },
      "execution_count": 19,
      "outputs": [
        {
          "output_type": "stream",
          "name": "stdout",
          "text": [
            "Model loaded successfully.\n",
            "Predicted Power Coefficient (Cp): 0.1274\n"
          ]
        }
      ]
    },
    {
      "cell_type": "markdown",
      "source": [
        "True Value\n",
        "\n",
        "![image.png](data:image/png;base64,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)"
      ],
      "metadata": {
        "id": "BScFYVwL2fip"
      }
    },
    {
      "cell_type": "code",
      "source": [],
      "metadata": {
        "id": "09M9xNUQ2uew"
      },
      "execution_count": null,
      "outputs": []
    }
  ]
}